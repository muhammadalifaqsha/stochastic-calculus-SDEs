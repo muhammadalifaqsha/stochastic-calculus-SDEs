{
 "cells": [
  {
   "cell_type": "markdown",
   "metadata": {},
   "source": [
    "# Time-Dependent Poisson Regression"
   ]
  },
  {
   "cell_type": "code",
   "execution_count": 44,
   "metadata": {},
   "outputs": [],
   "source": [
    "import numpy as np\n",
    "from numpy.linalg import inv\n",
    "from numpy import sqrt, sin, cos, pi, exp, e, log\n",
    "import scipy.special\n",
    "import matplotlib.pyplot as plt"
   ]
  },
  {
   "cell_type": "markdown",
   "metadata": {},
   "source": [
    "## Simulation"
   ]
  },
  {
   "cell_type": "code",
   "execution_count": 134,
   "metadata": {},
   "outputs": [
    {
     "data": {
      "image/png": "[encoded data removed]",
      "text/plain": [
       "<Figure size 432x288 with 1 Axes>"
      ]
     },
     "metadata": {
      "needs_background": "light"
     },
     "output_type": "display_data"
    }
   ],
   "source": [
    "# parameter\n",
    "alpha = 0.2\n",
    "beta = 0.55\n",
    "\n",
    "# time\n",
    "N = 10\n",
    "t = np.arange(0,N,1)\n",
    "\n",
    "# frequency simulation\n",
    "\n",
    "np.random.seed(20230319)\n",
    "y = np.random.poisson(lam=alpha+beta*t, size=(N,))\n",
    "\n",
    "plt.plot(y)\n",
    "plt.show()\n"
   ]
  },
  {
   "cell_type": "code",
   "execution_count": 135,
   "metadata": {},
   "outputs": [
    {
     "data": {
      "text/plain": [
       "2.6750000000000003"
      ]
     },
     "execution_count": 135,
     "metadata": {},
     "output_type": "execute_result"
    }
   ],
   "source": [
    "alpha+beta*np.median(t)"
   ]
  },
  {
   "cell_type": "code",
   "execution_count": 139,
   "metadata": {},
   "outputs": [],
   "source": [
    "# Define loglikelihood function\n",
    "\n",
    "def loglikelihood(param):\n",
    "    t_h = np.median(t)\n",
    "    a, b = param[0], param[1]\n",
    "    trend = a+b*(t-t_h)\n",
    "    likelihood = (-np.log(scipy.special.factorial(y)) + y*np.log(trend) - trend).sum()\n",
    "    return likelihood"
   ]
  },
  {
   "cell_type": "markdown",
   "metadata": {},
   "source": [
    "## MLE Estimation using Spiral Optimization Algorithm (SOA)"
   ]
  },
  {
   "cell_type": "code",
   "execution_count": 140,
   "metadata": {},
   "outputs": [
    {
     "name": "stderr",
     "output_type": "stream",
     "text": [
      "<ipython-input-139-638ed118ac27>:7: RuntimeWarning: invalid value encountered in log\n",
      "  likelihood = (-np.log(scipy.special.factorial(y)) + y*np.log(trend) - trend).sum()\n"
     ]
    },
    {
     "name": "stdout",
     "output_type": "stream",
     "text": [
      "Trial  1\n",
      "[2.30166997 0.49530454]\n",
      "Loglikelihood:  -14.380822983739389\n",
      "Trial  2\n",
      "[2.29995242 0.4952459 ]\n",
      "Loglikelihood:  -14.380818563088239\n",
      "Trial  3\n",
      "[2.30414272 0.49533669]\n",
      "Loglikelihood:  -14.380863714794291\n",
      "Trial  4\n",
      "[2.29813604 0.49482636]\n",
      "Loglikelihood:  -14.380825723604147\n",
      "Trial  5\n",
      "[2.30087862 0.4955027 ]\n",
      "Loglikelihood:  -14.380821173522374\n"
     ]
    }
   ],
   "source": [
    "def rotate_in_n_dim(points, theta):\n",
    "    n = points.shape[1]\n",
    "    R = np.array([[cos(theta), -sin(theta)],\n",
    "                  [sin(theta), cos(theta)]])\n",
    "    points_new = np.array(points)\n",
    "    \n",
    "    for i in range(n-1):\n",
    "        for j in range(i+1,n):\n",
    "            points_new[:,[i,j]] = points_new[:,[i,j]]@R.T\n",
    "            \n",
    "    return points_new\n",
    "\n",
    "\n",
    "def is_In_Area(point, feasible_area):\n",
    "    is_In = True\n",
    "    \n",
    "    for i, val in enumerate(point):\n",
    "        if val <= feasible_area[0,i] or val >= feasible_area[1,i]:\n",
    "            is_In = False\n",
    "            break\n",
    "        \n",
    "    return is_In\n",
    "\n",
    "\n",
    "feasible_area = np.array([[-20, -20],\n",
    "                          [20, 20]])\n",
    "dim = feasible_area.shape[1]\n",
    "transform_matrix = np.diag([feasible_area[1,j]-feasible_area[0,j] for j in range(dim)])\n",
    "M = 1000\n",
    "theta = pi/4\n",
    "r = 0.95\n",
    "maxiter = 100\n",
    "\n",
    "trial = 5\n",
    "x_center_list = np.zeros((trial,dim))\n",
    "\n",
    "seed = 20230324 #ke-1\n",
    "\n",
    "for i in range(0,trial):\n",
    "    np.random.seed(seed+i)\n",
    "    points_normalized = np.random.uniform(size=(M,dim))\n",
    "    points_original = points_normalized@transform_matrix + feasible_area[0]\n",
    "    values = np.array([-loglikelihood(point) for point in points_original])\n",
    "    x_center_normalized = points_normalized[np.nanargmin(values)] \n",
    "\n",
    "    for k in range(maxiter):\n",
    "        points_new_normalized = r*rotate_in_n_dim(points_normalized-x_center_normalized, theta) + x_center_normalized\n",
    "        points_new_original = points_new_normalized@transform_matrix + feasible_area[0]\n",
    "        values_new = np.array([-loglikelihood(points_new_original[i]) if is_In_Area(points_new_original[i], feasible_area) else float('inf') for i in range(M)])\n",
    "        points_normalized = points_new_normalized\n",
    "        values = values_new\n",
    "        x_center_normalized = points_normalized[np.nanargmin(values)]\n",
    "        \n",
    "    x_center_list[i] = np.array([(feasible_area[1,j]-feasible_area[0,j])*x_center_normalized[j]+feasible_area[0,j] for j in range(dim)]).reshape(-1,)\n",
    "    \n",
    "    print(\"Trial \", i+1)\n",
    "    print(x_center_list[i])\n",
    "    print(\"Loglikelihood: \", likelihood(x_center_list[i]))"
   ]
  },
  {
   "cell_type": "markdown",
   "metadata": {},
   "source": [
    "Even for sampling size of $10$, the MLE estimator (obtained using SOA) is reasonably close to the actual values $a = \\alpha + \\beta\\cdot t_{\\text{median}} = 2.675$, $b = \\beta = 0.55$."
   ]
  },
  {
   "cell_type": "code",
   "execution_count": null,
   "metadata": {},
   "outputs": [],
   "source": []
  }
 ],
 "metadata": {
  "kernelspec": {
   "display_name": "Python 3",
   "language": "python",
   "name": "python3"
  },
  "language_info": {
   "codemirror_mode": {
    "name": "ipython",
    "version": 3
   },
   "file_extension": ".py",
   "mimetype": "text/x-python",
   "name": "python",
   "nbconvert_exporter": "python",
   "pygments_lexer": "ipython3",
   "version": "3.8.5"
  }
 },
 "nbformat": 4,
 "nbformat_minor": 4
}
